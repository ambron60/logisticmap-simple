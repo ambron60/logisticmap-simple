{
 "cells": [
  {
   "cell_type": "markdown",
   "metadata": {},
   "source": [
    "Logistic map\n",
    "From Wikipedia, the free encyclopedia\n",
    "\n",
    "The logistic map is a polynomial mapping (equivalently, recurrence relation) of degree 2, often cited as an archetypal example of how complex, chaotic behaviour can arise from very simple non-linear dynamical equations.[1] The map was popularized in a seminal 1976 paper by the biologist Robert May,[2] in part as a discrete-time demographic model analogous to the logistic equation first created by Pierre François Verhulst.[3] Mathematically, the logistic map is written:"
   ]
  },
  {
   "cell_type": "markdown",
   "metadata": {},
   "source": [
    "<img src='https://wikimedia.org/api/rest_v1/media/math/render/svg/d24f962b8466e0e0e2262961e76a449b68e61afd'>"
   ]
  },
  {
   "cell_type": "code",
   "execution_count": 4,
   "metadata": {},
   "outputs": [],
   "source": [
    "import matplotlib.pyplot as plt"
   ]
  },
  {
   "cell_type": "code",
   "execution_count": 26,
   "metadata": {},
   "outputs": [],
   "source": [
    "def logistic_map(r, iterations, x):\n",
    "    \"\"\"Returns a plot of the logistic map equation\n",
    "    \n",
    "    Keyword arguments:\n",
    "    r -- the population growth rate (biotic potential) (no default)\n",
    "    iterations -- the number of discrete time steps (i.e., generations)\n",
    "    x or x0 -- initial population percentage size (default 0.1)\n",
    "    \"\"\"\n",
    "    global fcc\n",
    "    if x is None:\n",
    "        x = 0.1\n",
    "    else:  \n",
    "        fcc = [] # fraction of carrying capacity - holds x's\n",
    "        for i in range(iterations):\n",
    "            fcc.append(x)\n",
    "            x = r * x * (1.0 - x)\n",
    "    return plt.plot(fcc)"
   ]
  },
  {
   "cell_type": "code",
   "execution_count": 29,
   "metadata": {},
   "outputs": [
    {
     "data": {
      "text/plain": [
       "[<matplotlib.lines.Line2D at 0x2a25101d748>]"
      ]
     },
     "execution_count": 29,
     "metadata": {},
     "output_type": "execute_result"
    },
    {
     "data": {
      "image/png": "[encoded data removed]",
      "text/plain": [
       "<matplotlib.figure.Figure at 0x2a250fcb358>"
      ]
     },
     "metadata": {},
     "output_type": "display_data"
    }
   ],
   "source": [
    "logistic_map(2.7, 25, 0.02)"
   ]
  }
 ],
 "metadata": {
  "kernelspec": {
   "display_name": "Python 3",
   "language": "python",
   "name": "python3"
  },
  "language_info": {
   "codemirror_mode": {
    "name": "ipython",
    "version": 3
   },
   "file_extension": ".py",
   "mimetype": "text/x-python",
   "name": "python",
   "nbconvert_exporter": "python",
   "pygments_lexer": "ipython3",
   "version": "3.6.4"
  }
 },
 "nbformat": 4,
 "nbformat_minor": 2
}
